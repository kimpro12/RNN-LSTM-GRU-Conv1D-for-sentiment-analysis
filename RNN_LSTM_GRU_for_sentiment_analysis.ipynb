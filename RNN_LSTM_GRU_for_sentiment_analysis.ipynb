{
  "nbformat": 4,
  "nbformat_minor": 0,
  "metadata": {
    "colab": {
      "provenance": [],
      "toc_visible": true,
      "gpuType": "T4"
    },
    "kernelspec": {
      "name": "python3",
      "display_name": "Python 3"
    },
    "language_info": {
      "name": "python"
    },
    "accelerator": "GPU"
  },
  "cells": [
    {
      "cell_type": "markdown",
      "source": [
        "# Import libraries and initialize const"
      ],
      "metadata": {
        "id": "aX_cVp4HVgfV"
      }
    },
    {
      "cell_type": "code",
      "source": [
        "import numpy as np\n",
        "import tensorflow as tf\n",
        "from tensorflow import keras\n",
        "from sklearn.model_selection import train_test_split\n",
        "from tensorflow.keras.preprocessing.sequence import pad_sequences\n",
        "from tensorflow.keras import layers, models, losses, optimizers, metrics, callbacks\n",
        "import matplotlib.pyplot as plt\n",
        "from tensorflow.keras.datasets import imdb\n",
        "import re"
      ],
      "metadata": {
        "id": "OqoIpyELVjal"
      },
      "execution_count": 1,
      "outputs": []
    },
    {
      "cell_type": "code",
      "source": [
        "VOCAB_SIZE = 25000\n",
        "MAXLEN = 256\n",
        "EMBED_DIM = 64\n",
        "BATCH_SIZE = 64\n",
        "EPOCHS = 100\n",
        "SEED = 42"
      ],
      "metadata": {
        "id": "9rpB3OjPVCUY"
      },
      "execution_count": 2,
      "outputs": []
    },
    {
      "cell_type": "markdown",
      "source": [
        "# Load and split the data"
      ],
      "metadata": {
        "id": "ZXTSOb6eZK3s"
      }
    },
    {
      "cell_type": "code",
      "source": [
        "def load_imdb_numpy(num_words=VOCAB_SIZE, split=(0.8, 0.1, 0.1), seed=SEED):\n",
        "    train_ratio, val_ratio, test_ratio = split\n",
        "\n",
        "    # 1) Load 50k mẫu (25k train + 25k test) và giới hạn từ vựng cho phù hợp mô hình\n",
        "    (x_tr, y_tr), (x_te, y_te) = tf.keras.datasets.imdb.load_data(num_words=num_words)\n",
        "\n",
        "    # 2) Gộp toàn bộ để chủ động chia 8:1:1 (tối đa hóa dữ liệu train)\n",
        "    x_all = np.array(list(x_tr) + list(x_te), dtype=object)\n",
        "    y_all = np.array(list(y_tr) + list(y_te), dtype=np.int32)\n",
        "\n",
        "    # 3) Chia train vs temp (val+test) có stratify để cân bằng nhãn\n",
        "    X_train, X_temp, y_train, y_temp = train_test_split(\n",
        "        x_all, y_all,\n",
        "        test_size=val_ratio + test_ratio,\n",
        "        random_state=seed,\n",
        "        shuffle=True,\n",
        "        stratify=y_all\n",
        "    )\n",
        "\n",
        "    # 4) Chia tiếp temp thành val và test theo tỉ lệ yêu cầu (giữ stratify)\n",
        "    temp_val_fraction = val_ratio / (val_ratio + test_ratio) if (val_ratio + test_ratio) > 0 else 0\n",
        "    X_val, X_test, y_val, y_test = train_test_split(\n",
        "        X_temp, y_temp,\n",
        "        test_size=1 - temp_val_fraction,\n",
        "        random_state=seed,\n",
        "        shuffle=True,\n",
        "        stratify=y_temp\n",
        "    )\n",
        "\n",
        "    # 5) Đảm bảo tất cả là NumPy arrays (x là object array, y là int32)\n",
        "    X_train = np.array(X_train, dtype=object)\n",
        "    X_val   = np.array(X_val,   dtype=object)\n",
        "    X_test  = np.array(X_test,  dtype=object)\n",
        "\n",
        "    y_train = np.array(y_train, dtype=np.int32)\n",
        "    y_val   = np.array(y_val,   dtype=np.int32)\n",
        "    y_test  = np.array(y_test,  dtype=np.int32)\n",
        "\n",
        "    return X_train, y_train, X_val, y_val, X_test, y_test"
      ],
      "metadata": {
        "id": "2CgHmtlVZODb"
      },
      "execution_count": 3,
      "outputs": []
    },
    {
      "cell_type": "code",
      "source": [
        "X_train, y_train, X_val, y_val, X_test, y_test = load_imdb_numpy(num_words=VOCAB_SIZE, split=(0.8, 0.1, 0.1), seed=SEED)"
      ],
      "metadata": {
        "id": "t03wU718amVt"
      },
      "execution_count": 4,
      "outputs": []
    },
    {
      "cell_type": "markdown",
      "source": [
        "# Preprocessing data\n",
        "---\n",
        "\n"
      ],
      "metadata": {
        "id": "tRQVCyO4RiUW"
      }
    },
    {
      "cell_type": "code",
      "source": [
        "X_train = pad_sequences(X_train, maxlen=MAXLEN, padding=\"post\", truncating=\"pre\", value=0)\n",
        "X_val = pad_sequences(X_val, maxlen=MAXLEN, padding=\"post\", truncating=\"pre\", value=0)\n",
        "X_test = pad_sequences(X_test, maxlen=MAXLEN, padding=\"post\", truncating=\"pre\", value=0)\n",
        "\n",
        "train = (tf.data.Dataset.from_tensor_slices((X_train, y_train))\n",
        "            .shuffle(buffer_size=10000, seed=SEED, reshuffle_each_iteration=True)\n",
        "            .batch(BATCH_SIZE, drop_remainder = True)\n",
        "            .prefetch(tf.data.AUTOTUNE))\n",
        "\n",
        "val  = (tf.data.Dataset.from_tensor_slices((X_val, y_val))\n",
        "           .batch(BATCH_SIZE, drop_remainder = False)\n",
        "           .cache()\n",
        "           .prefetch(tf.data.AUTOTUNE))\n",
        "\n",
        "test = (tf.data.Dataset.from_tensor_slices((X_test, y_test))\n",
        "           .batch(BATCH_SIZE, drop_remainder =False)\n",
        "           .cache()\n",
        "           .prefetch(tf.data.AUTOTUNE))"
      ],
      "metadata": {
        "id": "d32eACjnSCy2"
      },
      "execution_count": 5,
      "outputs": []
    },
    {
      "cell_type": "markdown",
      "source": [
        "# Build model"
      ],
      "metadata": {
        "id": "empgJjc7V-bF"
      }
    },
    {
      "cell_type": "code",
      "source": [
        "def build_birnn():\n",
        "    stacked_model = models.Sequential([\n",
        "      layers.Embedding(VOCAB_SIZE, EMBED_DIM, input_length=MAXLEN, mask_zero=True),\n",
        "      layers.SpatialDropout1D(0.2),\n",
        "      layers.Bidirectional(\n",
        "            layers.SimpleRNN(64, activation=\"tanh\",\n",
        "                             dropout=0.2,\n",
        "                             return_sequences=True),  # phát ra [B, T, 2*64] sau merge\n",
        "            merge_mode=\"concat\"),\n",
        "      layers.GlobalAveragePooling1D(),\n",
        "      layers.Dropout(0.5),\n",
        "      layers.Dense(32, activation=\"relu\"),\n",
        "      layers.Dropout(0.5),\n",
        "      layers.Dense(1, activation=\"sigmoid\")\n",
        "     ])\n",
        "    stacked_model.compile(\n",
        "        optimizer=keras.optimizers.AdamW(learning_rate=1e-3, weight_decay=1e-3),\n",
        "        loss=keras.losses.BinaryCrossentropy(label_smoothing=0.05),\n",
        "        metrics=[\"accuracy\"]\n",
        "    )\n",
        "    return stacked_model\n",
        "\n",
        "def build_bilstm(vocab_size=VOCAB_SIZE, embed_dim=EMBED_DIM, maxlen=MAXLEN, units=64, merge_mode=\"concat\"):\n",
        "    inputs = layers.Input(shape=(maxlen,), dtype=\"int32\")\n",
        "\n",
        "    # Embedding + SpatialDropout\n",
        "    x = layers.Embedding(vocab_size, embed_dim, mask_zero=True)(inputs)\n",
        "    x = layers.SpatialDropout1D(0.2)(x)\n",
        "\n",
        "    x = layers.Bidirectional(\n",
        "            layers.LSTM(units=units, return_sequences=True),\n",
        "            merge_mode=merge_mode\n",
        "        )(x)\n",
        "\n",
        "    x = layers.GlobalMaxPooling1D()(x)\n",
        "    x = layers.Dropout(0.5)(x)\n",
        "\n",
        "    x = layers.Dense(units // 2, activation=\"relu\")(x)\n",
        "    x = layers.Dropout(0.5)(x)\n",
        "\n",
        "    outputs = layers.Dense(1, activation=\"sigmoid\")(x)\n",
        "    model = keras.Model(inputs, outputs)\n",
        "\n",
        "    model.compile(\n",
        "        optimizer=keras.optimizers.AdamW(learning_rate=1e-3, weight_decay=1e-2),\n",
        "        loss=keras.losses.BinaryCrossentropy(label_smoothing=0.05),\n",
        "        metrics=[\"accuracy\"]\n",
        "    )\n",
        "    return model\n",
        "\n",
        "def build_bigru(vocab_size=VOCAB_SIZE, embed_dim=EMBED_DIM, maxlen=MAXLEN,\n",
        "                units=64, merge_mode=\"concat\"):\n",
        "    inputs = layers.Input(shape=(maxlen,), dtype=\"int32\")\n",
        "\n",
        "    # Embedding + SpatialDropout\n",
        "    x = layers.Embedding(vocab_size, embed_dim, mask_zero=True)(inputs)\n",
        "    x = layers.SpatialDropout1D(0.2)(x)\n",
        "\n",
        "    x = layers.Bidirectional(\n",
        "            layers.GRU(units,\n",
        "                       return_sequences=True,\n",
        "                       reset_after=True),\n",
        "            merge_mode=merge_mode\n",
        "        )(x)\n",
        "\n",
        "    x = layers.GlobalMaxPooling1D()(x)\n",
        "    x = layers.Dropout(0.5)(x)\n",
        "\n",
        "    x = layers.Dense(units // 2, activation=\"relu\")(x)\n",
        "    x = layers.Dropout(0.5)(x)\n",
        "\n",
        "    outputs = layers.Dense(1, activation=\"sigmoid\")(x)\n",
        "    model = keras.Model(inputs, outputs)\n",
        "\n",
        "    model.compile(\n",
        "        optimizer=keras.optimizers.AdamW(learning_rate=1e-3, weight_decay=1e-3),\n",
        "        loss=keras.losses.BinaryCrossentropy(label_smoothing=0.05),\n",
        "        metrics=[\"accuracy\"]\n",
        "    )\n",
        "    return model\n",
        "\n",
        "def build_Conv1D(vocab_size=VOCAB_SIZE, embed_dim=EMBED_DIM, maxlen=MAXLEN):\n",
        "    inputs = layers.Input(shape=(maxlen,), dtype=\"int32\")\n",
        "    x = layers.Embedding(vocab_size, embed_dim, mask_zero=True)(inputs)\n",
        "    x = layers.Conv1D(32, 3, activation='relu')(x)\n",
        "    x = layers.Flatten()(x)\n",
        "    x = layers.Dense(32, activation='relu')(x)\n",
        "    x = layers.Dropout(0.5)(x)\n",
        "    outputs = layers.Dense(1, activation='sigmoid')(x)\n",
        "    model = keras.Model(inputs, outputs)\n",
        "    model = keras.Model(inputs, outputs)\n",
        "    model.compile(\n",
        "        optimizer=keras.optimizers.AdamW(learning_rate=1e-3, weight_decay=1e-3),\n",
        "        loss=keras.losses.BinaryCrossentropy(label_smoothing=0.05),\n",
        "        metrics=[\"accuracy\"]\n",
        "    )\n",
        "    return model\n",
        "\n",
        "model = build_bigru()\n",
        "model.summary()"
      ],
      "metadata": {
        "colab": {
          "base_uri": "https://localhost:8080/",
          "height": 633
        },
        "id": "GTYs_5HlV_4o",
        "outputId": "6ed19b08-e02c-44a3-ca7f-a4f3edb2e719"
      },
      "execution_count": 6,
      "outputs": [
        {
          "output_type": "stream",
          "name": "stderr",
          "text": [
            "/usr/local/lib/python3.12/dist-packages/keras/src/layers/layer.py:965: UserWarning: Layer 'global_max_pooling1d' (of type GlobalMaxPooling1D) was passed an input with a mask attached to it. However, this layer does not support masking and will therefore destroy the mask information. Downstream layers will not see the mask.\n",
            "  warnings.warn(\n"
          ]
        },
        {
          "output_type": "display_data",
          "data": {
            "text/plain": [
              "\u001b[1mModel: \"functional\"\u001b[0m\n"
            ],
            "text/html": [
              "<pre style=\"white-space:pre;overflow-x:auto;line-height:normal;font-family:Menlo,'DejaVu Sans Mono',consolas,'Courier New',monospace\"><span style=\"font-weight: bold\">Model: \"functional\"</span>\n",
              "</pre>\n"
            ]
          },
          "metadata": {}
        },
        {
          "output_type": "display_data",
          "data": {
            "text/plain": [
              "┏━━━━━━━━━━━━━━━━━━━━━┳━━━━━━━━━━━━━━━━━━━┳━━━━━━━━━━━━┳━━━━━━━━━━━━━━━━━━━┓\n",
              "┃\u001b[1m \u001b[0m\u001b[1mLayer (type)       \u001b[0m\u001b[1m \u001b[0m┃\u001b[1m \u001b[0m\u001b[1mOutput Shape     \u001b[0m\u001b[1m \u001b[0m┃\u001b[1m \u001b[0m\u001b[1m   Param #\u001b[0m\u001b[1m \u001b[0m┃\u001b[1m \u001b[0m\u001b[1mConnected to     \u001b[0m\u001b[1m \u001b[0m┃\n",
              "┡━━━━━━━━━━━━━━━━━━━━━╇━━━━━━━━━━━━━━━━━━━╇━━━━━━━━━━━━╇━━━━━━━━━━━━━━━━━━━┩\n",
              "│ input_layer         │ (\u001b[38;5;45mNone\u001b[0m, \u001b[38;5;34m256\u001b[0m)       │          \u001b[38;5;34m0\u001b[0m │ -                 │\n",
              "│ (\u001b[38;5;33mInputLayer\u001b[0m)        │                   │            │                   │\n",
              "├─────────────────────┼───────────────────┼────────────┼───────────────────┤\n",
              "│ embedding           │ (\u001b[38;5;45mNone\u001b[0m, \u001b[38;5;34m256\u001b[0m, \u001b[38;5;34m64\u001b[0m)   │  \u001b[38;5;34m1,600,000\u001b[0m │ input_layer[\u001b[38;5;34m0\u001b[0m][\u001b[38;5;34m0\u001b[0m] │\n",
              "│ (\u001b[38;5;33mEmbedding\u001b[0m)         │                   │            │                   │\n",
              "├─────────────────────┼───────────────────┼────────────┼───────────────────┤\n",
              "│ spatial_dropout1d   │ (\u001b[38;5;45mNone\u001b[0m, \u001b[38;5;34m256\u001b[0m, \u001b[38;5;34m64\u001b[0m)   │          \u001b[38;5;34m0\u001b[0m │ embedding[\u001b[38;5;34m0\u001b[0m][\u001b[38;5;34m0\u001b[0m]   │\n",
              "│ (\u001b[38;5;33mSpatialDropout1D\u001b[0m)  │                   │            │                   │\n",
              "├─────────────────────┼───────────────────┼────────────┼───────────────────┤\n",
              "│ not_equal           │ (\u001b[38;5;45mNone\u001b[0m, \u001b[38;5;34m256\u001b[0m)       │          \u001b[38;5;34m0\u001b[0m │ input_layer[\u001b[38;5;34m0\u001b[0m][\u001b[38;5;34m0\u001b[0m] │\n",
              "│ (\u001b[38;5;33mNotEqual\u001b[0m)          │                   │            │                   │\n",
              "├─────────────────────┼───────────────────┼────────────┼───────────────────┤\n",
              "│ bidirectional       │ (\u001b[38;5;45mNone\u001b[0m, \u001b[38;5;34m256\u001b[0m, \u001b[38;5;34m128\u001b[0m)  │     \u001b[38;5;34m49,920\u001b[0m │ spatial_dropout1… │\n",
              "│ (\u001b[38;5;33mBidirectional\u001b[0m)     │                   │            │ not_equal[\u001b[38;5;34m0\u001b[0m][\u001b[38;5;34m0\u001b[0m]   │\n",
              "├─────────────────────┼───────────────────┼────────────┼───────────────────┤\n",
              "│ global_max_pooling… │ (\u001b[38;5;45mNone\u001b[0m, \u001b[38;5;34m128\u001b[0m)       │          \u001b[38;5;34m0\u001b[0m │ bidirectional[\u001b[38;5;34m0\u001b[0m]… │\n",
              "│ (\u001b[38;5;33mGlobalMaxPooling1…\u001b[0m │                   │            │                   │\n",
              "├─────────────────────┼───────────────────┼────────────┼───────────────────┤\n",
              "│ dropout (\u001b[38;5;33mDropout\u001b[0m)   │ (\u001b[38;5;45mNone\u001b[0m, \u001b[38;5;34m128\u001b[0m)       │          \u001b[38;5;34m0\u001b[0m │ global_max_pooli… │\n",
              "├─────────────────────┼───────────────────┼────────────┼───────────────────┤\n",
              "│ dense (\u001b[38;5;33mDense\u001b[0m)       │ (\u001b[38;5;45mNone\u001b[0m, \u001b[38;5;34m32\u001b[0m)        │      \u001b[38;5;34m4,128\u001b[0m │ dropout[\u001b[38;5;34m0\u001b[0m][\u001b[38;5;34m0\u001b[0m]     │\n",
              "├─────────────────────┼───────────────────┼────────────┼───────────────────┤\n",
              "│ dropout_1 (\u001b[38;5;33mDropout\u001b[0m) │ (\u001b[38;5;45mNone\u001b[0m, \u001b[38;5;34m32\u001b[0m)        │          \u001b[38;5;34m0\u001b[0m │ dense[\u001b[38;5;34m0\u001b[0m][\u001b[38;5;34m0\u001b[0m]       │\n",
              "├─────────────────────┼───────────────────┼────────────┼───────────────────┤\n",
              "│ dense_1 (\u001b[38;5;33mDense\u001b[0m)     │ (\u001b[38;5;45mNone\u001b[0m, \u001b[38;5;34m1\u001b[0m)         │         \u001b[38;5;34m33\u001b[0m │ dropout_1[\u001b[38;5;34m0\u001b[0m][\u001b[38;5;34m0\u001b[0m]   │\n",
              "└─────────────────────┴───────────────────┴────────────┴───────────────────┘\n"
            ],
            "text/html": [
              "<pre style=\"white-space:pre;overflow-x:auto;line-height:normal;font-family:Menlo,'DejaVu Sans Mono',consolas,'Courier New',monospace\">┏━━━━━━━━━━━━━━━━━━━━━┳━━━━━━━━━━━━━━━━━━━┳━━━━━━━━━━━━┳━━━━━━━━━━━━━━━━━━━┓\n",
              "┃<span style=\"font-weight: bold\"> Layer (type)        </span>┃<span style=\"font-weight: bold\"> Output Shape      </span>┃<span style=\"font-weight: bold\">    Param # </span>┃<span style=\"font-weight: bold\"> Connected to      </span>┃\n",
              "┡━━━━━━━━━━━━━━━━━━━━━╇━━━━━━━━━━━━━━━━━━━╇━━━━━━━━━━━━╇━━━━━━━━━━━━━━━━━━━┩\n",
              "│ input_layer         │ (<span style=\"color: #00d7ff; text-decoration-color: #00d7ff\">None</span>, <span style=\"color: #00af00; text-decoration-color: #00af00\">256</span>)       │          <span style=\"color: #00af00; text-decoration-color: #00af00\">0</span> │ -                 │\n",
              "│ (<span style=\"color: #0087ff; text-decoration-color: #0087ff\">InputLayer</span>)        │                   │            │                   │\n",
              "├─────────────────────┼───────────────────┼────────────┼───────────────────┤\n",
              "│ embedding           │ (<span style=\"color: #00d7ff; text-decoration-color: #00d7ff\">None</span>, <span style=\"color: #00af00; text-decoration-color: #00af00\">256</span>, <span style=\"color: #00af00; text-decoration-color: #00af00\">64</span>)   │  <span style=\"color: #00af00; text-decoration-color: #00af00\">1,600,000</span> │ input_layer[<span style=\"color: #00af00; text-decoration-color: #00af00\">0</span>][<span style=\"color: #00af00; text-decoration-color: #00af00\">0</span>] │\n",
              "│ (<span style=\"color: #0087ff; text-decoration-color: #0087ff\">Embedding</span>)         │                   │            │                   │\n",
              "├─────────────────────┼───────────────────┼────────────┼───────────────────┤\n",
              "│ spatial_dropout1d   │ (<span style=\"color: #00d7ff; text-decoration-color: #00d7ff\">None</span>, <span style=\"color: #00af00; text-decoration-color: #00af00\">256</span>, <span style=\"color: #00af00; text-decoration-color: #00af00\">64</span>)   │          <span style=\"color: #00af00; text-decoration-color: #00af00\">0</span> │ embedding[<span style=\"color: #00af00; text-decoration-color: #00af00\">0</span>][<span style=\"color: #00af00; text-decoration-color: #00af00\">0</span>]   │\n",
              "│ (<span style=\"color: #0087ff; text-decoration-color: #0087ff\">SpatialDropout1D</span>)  │                   │            │                   │\n",
              "├─────────────────────┼───────────────────┼────────────┼───────────────────┤\n",
              "│ not_equal           │ (<span style=\"color: #00d7ff; text-decoration-color: #00d7ff\">None</span>, <span style=\"color: #00af00; text-decoration-color: #00af00\">256</span>)       │          <span style=\"color: #00af00; text-decoration-color: #00af00\">0</span> │ input_layer[<span style=\"color: #00af00; text-decoration-color: #00af00\">0</span>][<span style=\"color: #00af00; text-decoration-color: #00af00\">0</span>] │\n",
              "│ (<span style=\"color: #0087ff; text-decoration-color: #0087ff\">NotEqual</span>)          │                   │            │                   │\n",
              "├─────────────────────┼───────────────────┼────────────┼───────────────────┤\n",
              "│ bidirectional       │ (<span style=\"color: #00d7ff; text-decoration-color: #00d7ff\">None</span>, <span style=\"color: #00af00; text-decoration-color: #00af00\">256</span>, <span style=\"color: #00af00; text-decoration-color: #00af00\">128</span>)  │     <span style=\"color: #00af00; text-decoration-color: #00af00\">49,920</span> │ spatial_dropout1… │\n",
              "│ (<span style=\"color: #0087ff; text-decoration-color: #0087ff\">Bidirectional</span>)     │                   │            │ not_equal[<span style=\"color: #00af00; text-decoration-color: #00af00\">0</span>][<span style=\"color: #00af00; text-decoration-color: #00af00\">0</span>]   │\n",
              "├─────────────────────┼───────────────────┼────────────┼───────────────────┤\n",
              "│ global_max_pooling… │ (<span style=\"color: #00d7ff; text-decoration-color: #00d7ff\">None</span>, <span style=\"color: #00af00; text-decoration-color: #00af00\">128</span>)       │          <span style=\"color: #00af00; text-decoration-color: #00af00\">0</span> │ bidirectional[<span style=\"color: #00af00; text-decoration-color: #00af00\">0</span>]… │\n",
              "│ (<span style=\"color: #0087ff; text-decoration-color: #0087ff\">GlobalMaxPooling1…</span> │                   │            │                   │\n",
              "├─────────────────────┼───────────────────┼────────────┼───────────────────┤\n",
              "│ dropout (<span style=\"color: #0087ff; text-decoration-color: #0087ff\">Dropout</span>)   │ (<span style=\"color: #00d7ff; text-decoration-color: #00d7ff\">None</span>, <span style=\"color: #00af00; text-decoration-color: #00af00\">128</span>)       │          <span style=\"color: #00af00; text-decoration-color: #00af00\">0</span> │ global_max_pooli… │\n",
              "├─────────────────────┼───────────────────┼────────────┼───────────────────┤\n",
              "│ dense (<span style=\"color: #0087ff; text-decoration-color: #0087ff\">Dense</span>)       │ (<span style=\"color: #00d7ff; text-decoration-color: #00d7ff\">None</span>, <span style=\"color: #00af00; text-decoration-color: #00af00\">32</span>)        │      <span style=\"color: #00af00; text-decoration-color: #00af00\">4,128</span> │ dropout[<span style=\"color: #00af00; text-decoration-color: #00af00\">0</span>][<span style=\"color: #00af00; text-decoration-color: #00af00\">0</span>]     │\n",
              "├─────────────────────┼───────────────────┼────────────┼───────────────────┤\n",
              "│ dropout_1 (<span style=\"color: #0087ff; text-decoration-color: #0087ff\">Dropout</span>) │ (<span style=\"color: #00d7ff; text-decoration-color: #00d7ff\">None</span>, <span style=\"color: #00af00; text-decoration-color: #00af00\">32</span>)        │          <span style=\"color: #00af00; text-decoration-color: #00af00\">0</span> │ dense[<span style=\"color: #00af00; text-decoration-color: #00af00\">0</span>][<span style=\"color: #00af00; text-decoration-color: #00af00\">0</span>]       │\n",
              "├─────────────────────┼───────────────────┼────────────┼───────────────────┤\n",
              "│ dense_1 (<span style=\"color: #0087ff; text-decoration-color: #0087ff\">Dense</span>)     │ (<span style=\"color: #00d7ff; text-decoration-color: #00d7ff\">None</span>, <span style=\"color: #00af00; text-decoration-color: #00af00\">1</span>)         │         <span style=\"color: #00af00; text-decoration-color: #00af00\">33</span> │ dropout_1[<span style=\"color: #00af00; text-decoration-color: #00af00\">0</span>][<span style=\"color: #00af00; text-decoration-color: #00af00\">0</span>]   │\n",
              "└─────────────────────┴───────────────────┴────────────┴───────────────────┘\n",
              "</pre>\n"
            ]
          },
          "metadata": {}
        },
        {
          "output_type": "display_data",
          "data": {
            "text/plain": [
              "\u001b[1m Total params: \u001b[0m\u001b[38;5;34m1,654,081\u001b[0m (6.31 MB)\n"
            ],
            "text/html": [
              "<pre style=\"white-space:pre;overflow-x:auto;line-height:normal;font-family:Menlo,'DejaVu Sans Mono',consolas,'Courier New',monospace\"><span style=\"font-weight: bold\"> Total params: </span><span style=\"color: #00af00; text-decoration-color: #00af00\">1,654,081</span> (6.31 MB)\n",
              "</pre>\n"
            ]
          },
          "metadata": {}
        },
        {
          "output_type": "display_data",
          "data": {
            "text/plain": [
              "\u001b[1m Trainable params: \u001b[0m\u001b[38;5;34m1,654,081\u001b[0m (6.31 MB)\n"
            ],
            "text/html": [
              "<pre style=\"white-space:pre;overflow-x:auto;line-height:normal;font-family:Menlo,'DejaVu Sans Mono',consolas,'Courier New',monospace\"><span style=\"font-weight: bold\"> Trainable params: </span><span style=\"color: #00af00; text-decoration-color: #00af00\">1,654,081</span> (6.31 MB)\n",
              "</pre>\n"
            ]
          },
          "metadata": {}
        },
        {
          "output_type": "display_data",
          "data": {
            "text/plain": [
              "\u001b[1m Non-trainable params: \u001b[0m\u001b[38;5;34m0\u001b[0m (0.00 B)\n"
            ],
            "text/html": [
              "<pre style=\"white-space:pre;overflow-x:auto;line-height:normal;font-family:Menlo,'DejaVu Sans Mono',consolas,'Courier New',monospace\"><span style=\"font-weight: bold\"> Non-trainable params: </span><span style=\"color: #00af00; text-decoration-color: #00af00\">0</span> (0.00 B)\n",
              "</pre>\n"
            ]
          },
          "metadata": {}
        }
      ]
    },
    {
      "cell_type": "markdown",
      "source": [
        "# Train model"
      ],
      "metadata": {
        "id": "sA7Wn6TgZTXL"
      }
    },
    {
      "cell_type": "code",
      "source": [
        "callbacks = [\n",
        "    keras.callbacks.EarlyStopping(patience=6, restore_best_weights=True, monitor='val_loss'),\n",
        "    keras.callbacks.ReduceLROnPlateau(factor=0.5, patience=3, min_lr=1e-5)\n",
        "]\n",
        "\n",
        "history = model.fit(\n",
        "    train,\n",
        "    validation_data=val,\n",
        "    epochs=100,\n",
        "    callbacks=callbacks,\n",
        "    verbose=1\n",
        ")"
      ],
      "metadata": {
        "colab": {
          "base_uri": "https://localhost:8080/"
        },
        "id": "rSXsUa0oZVGF",
        "outputId": "9b28fba4-c31b-4fb4-f6f5-234c416ed456"
      },
      "execution_count": 7,
      "outputs": [
        {
          "output_type": "stream",
          "name": "stdout",
          "text": [
            "Epoch 1/100\n",
            "\u001b[1m625/625\u001b[0m \u001b[32m━━━━━━━━━━━━━━━━━━━━\u001b[0m\u001b[37m\u001b[0m \u001b[1m22s\u001b[0m 26ms/step - accuracy: 0.6510 - loss: 0.5951 - val_accuracy: 0.8924 - val_loss: 0.3220 - learning_rate: 0.0010\n",
            "Epoch 2/100\n",
            "\u001b[1m625/625\u001b[0m \u001b[32m━━━━━━━━━━━━━━━━━━━━\u001b[0m\u001b[37m\u001b[0m \u001b[1m18s\u001b[0m 27ms/step - accuracy: 0.9081 - loss: 0.3143 - val_accuracy: 0.9014 - val_loss: 0.3008 - learning_rate: 0.0010\n",
            "Epoch 3/100\n",
            "\u001b[1m625/625\u001b[0m \u001b[32m━━━━━━━━━━━━━━━━━━━━\u001b[0m\u001b[37m\u001b[0m \u001b[1m17s\u001b[0m 27ms/step - accuracy: 0.9455 - loss: 0.2492 - val_accuracy: 0.9080 - val_loss: 0.3037 - learning_rate: 0.0010\n",
            "Epoch 4/100\n",
            "\u001b[1m625/625\u001b[0m \u001b[32m━━━━━━━━━━━━━━━━━━━━\u001b[0m\u001b[37m\u001b[0m \u001b[1m16s\u001b[0m 25ms/step - accuracy: 0.9661 - loss: 0.2082 - val_accuracy: 0.8982 - val_loss: 0.3509 - learning_rate: 0.0010\n",
            "Epoch 5/100\n",
            "\u001b[1m625/625\u001b[0m \u001b[32m━━━━━━━━━━━━━━━━━━━━\u001b[0m\u001b[37m\u001b[0m \u001b[1m17s\u001b[0m 27ms/step - accuracy: 0.9785 - loss: 0.1847 - val_accuracy: 0.8918 - val_loss: 0.3624 - learning_rate: 0.0010\n",
            "Epoch 6/100\n",
            "\u001b[1m625/625\u001b[0m \u001b[32m━━━━━━━━━━━━━━━━━━━━\u001b[0m\u001b[37m\u001b[0m \u001b[1m16s\u001b[0m 25ms/step - accuracy: 0.9869 - loss: 0.1674 - val_accuracy: 0.9026 - val_loss: 0.3413 - learning_rate: 5.0000e-04\n",
            "Epoch 7/100\n",
            "\u001b[1m625/625\u001b[0m \u001b[32m━━━━━━━━━━━━━━━━━━━━\u001b[0m\u001b[37m\u001b[0m \u001b[1m21s\u001b[0m 26ms/step - accuracy: 0.9924 - loss: 0.1555 - val_accuracy: 0.8960 - val_loss: 0.3511 - learning_rate: 5.0000e-04\n",
            "Epoch 8/100\n",
            "\u001b[1m625/625\u001b[0m \u001b[32m━━━━━━━━━━━━━━━━━━━━\u001b[0m\u001b[37m\u001b[0m \u001b[1m16s\u001b[0m 26ms/step - accuracy: 0.9945 - loss: 0.1518 - val_accuracy: 0.8942 - val_loss: 0.3584 - learning_rate: 5.0000e-04\n"
          ]
        }
      ]
    },
    {
      "cell_type": "markdown",
      "source": [
        "# Evaluate"
      ],
      "metadata": {
        "id": "7nQGmaR1cRu0"
      }
    },
    {
      "cell_type": "code",
      "source": [
        "import matplotlib.pyplot as plt\n",
        "\n",
        "def plot_train_val_loss(history, title=\"Training vs Validation Loss\"):\n",
        "    # history: đối tượng trả về bởi model.fit(...) hoặc dict history.history\n",
        "    hist = history.history if hasattr(history, \"history\") else history\n",
        "\n",
        "    train_loss = hist.get(\"loss\")\n",
        "    val_loss   = hist.get(\"val_loss\")\n",
        "    if train_loss is None or val_loss is None:\n",
        "        raise ValueError('Thiếu \"loss\" hoặc \"val_loss\" trong history. Hãy đảm bảo fit có validation_data.')\n",
        "\n",
        "    epochs = range(1, len(train_loss) + 1)\n",
        "\n",
        "    plt.figure()\n",
        "    plt.plot(epochs, train_loss, label=\"Train loss\")\n",
        "    plt.plot(epochs, val_loss,   label=\"Validation loss\")\n",
        "    plt.xlabel(\"Epoch\")\n",
        "    plt.ylabel(\"Loss\")\n",
        "    plt.title(title)\n",
        "    plt.legend()\n",
        "    plt.grid(True)\n",
        "    plt.tight_layout()\n",
        "    plt.show()\n",
        "\n",
        "# Gọi:\n",
        "plot_train_val_loss(history)"
      ],
      "metadata": {
        "colab": {
          "base_uri": "https://localhost:8080/",
          "height": 487
        },
        "id": "4o6iRD4sOKwO",
        "outputId": "1769305c-b4c7-4e0e-9c0a-0c0da44e6d6f"
      },
      "execution_count": 8,
      "outputs": [
        {
          "output_type": "display_data",
          "data": {
            "text/plain": [
              "<Figure size 640x480 with 1 Axes>"
            ],
            "image/png": "[encoded data removed]"
          },
          "metadata": {}
        }
      ]
    },
    {
      "cell_type": "code",
      "source": [
        "test_loss, test_acc = model.evaluate(test, verbose=0)\n",
        "print(f\"Test (weighted) loss: {test_loss:.4f} | acc: {test_acc:.4f}\")"
      ],
      "metadata": {
        "colab": {
          "base_uri": "https://localhost:8080/"
        },
        "id": "AKYHhFIzcSuw",
        "outputId": "f4938b2a-3cc3-465a-994d-738bb59dccbb"
      },
      "execution_count": 9,
      "outputs": [
        {
          "output_type": "stream",
          "name": "stdout",
          "text": [
            "Test (weighted) loss: 0.3105 | acc: 0.9024\n"
          ]
        }
      ]
    },
    {
      "cell_type": "markdown",
      "source": [
        "# Test"
      ],
      "metadata": {
        "id": "47-cnr8RwzJO"
      }
    },
    {
      "cell_type": "code",
      "source": [
        "INDEX_FROM = 3     # offset 3: 0=PAD, 1=START, 2=OOV\n",
        "START = 1\n",
        "OOV = 2\n",
        "PAD = 0\n",
        "\n",
        "VOCAB_SIZE = 25000\n",
        "MAXLEN = 256\n",
        "\n",
        "# Tải word_index gốc rồi cộng offset=3 để khớp với dữ liệu train\n",
        "_raw_wi = imdb.get_word_index()\n",
        "word_index = {w: (i + INDEX_FROM) for w, i in _raw_wi.items()}\n",
        "\n",
        "def encode_imdb_text(text, vocab_size=VOCAB_SIZE, maxlen=MAXLEN):\n",
        "    \"\"\"\n",
        "    text -> sequence chỉ số theo quy ước IMDB (START=1, OOV=2, PAD=0)\n",
        "    - lowercase + tách token đơn giản\n",
        "    - từ nào không có trong word_index hoặc >= vocab_size -> OOV\n",
        "    - pad về maxlen với PAD=0, truncating='pre' để khớp pipeline lúc train\n",
        "    \"\"\"\n",
        "    # tách token: chữ, số, apostrophe\n",
        "    tokens = re.findall(r\"[a-z0-9']+\", text.lower())\n",
        "\n",
        "    seq = [START]\n",
        "    for w in tokens:\n",
        "        idx = word_index.get(w, OOV)\n",
        "        if idx >= vocab_size:\n",
        "            idx = OOV\n",
        "        seq.append(idx)\n",
        "\n",
        "    x = pad_sequences([seq], maxlen=maxlen, padding=\"post\", truncating=\"pre\", value=PAD)\n",
        "    return x  # shape (1, maxlen) int32\n",
        "\n",
        "def predict_sentence(text, threshold=0.5):\n",
        "    \"\"\"\n",
        "    Trả về (prob_positive, label_str).\n",
        "    Yêu cầu: biến 'model' đã là model Keras bạn huấn luyện trước đó.\n",
        "    \"\"\"\n",
        "    x = encode_imdb_text(text)\n",
        "    prob = float(model.predict(x, verbose=0)[0, 0])  # xác suất positive\n",
        "    label = \"positive\" if prob >= threshold else \"negative\"\n",
        "    return prob, label"
      ],
      "metadata": {
        "id": "9-gvGJAAw0nZ"
      },
      "execution_count": 10,
      "outputs": []
    },
    {
      "cell_type": "code",
      "source": [
        "sentence = \"So fucking bad\"\n",
        "x_demo = encode_imdb_text(sentence)\n",
        "prob, label = predict_sentence(sentence)\n",
        "print(f\"Prob positive: {prob:.3f}  -->  {label}\")"
      ],
      "metadata": {
        "colab": {
          "base_uri": "https://localhost:8080/"
        },
        "id": "duUM07QaxFEc",
        "outputId": "2045ce2f-a253-4522-87cf-cc18bca8d30e"
      },
      "execution_count": 11,
      "outputs": [
        {
          "output_type": "stream",
          "name": "stdout",
          "text": [
            "Prob positive: 0.193  -->  negative\n"
          ]
        }
      ]
    }
  ]
}